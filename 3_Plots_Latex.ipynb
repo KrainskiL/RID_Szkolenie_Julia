{
 "cells": [
  {
   "cell_type": "markdown",
   "metadata": {},
   "source": [
    "## Plots"
   ]
  },
  {
   "cell_type": "code",
   "execution_count": null,
   "metadata": {},
   "outputs": [],
   "source": [
    "using Plots\n",
    "Plots.gr()  # sellect plotting backend see https://docs.juliaplots.org/latest/backends/"
   ]
  },
  {
   "cell_type": "code",
   "execution_count": null,
   "metadata": {},
   "outputs": [],
   "source": [
    "histogram2d(randn(10000), randn(10000), nbins=20)"
   ]
  },
  {
   "cell_type": "code",
   "execution_count": null,
   "metadata": {},
   "outputs": [],
   "source": [
    "plot(Plots.fakedata(50,5), lw=3)\n",
    "title!(\"SomeTitle\")\n",
    "xlabel!(\"Os X\")\n",
    "ylabel!(\"Os Y\")\n",
    "savefig(\"myplot.pdf\")"
   ]
  },
  {
   "cell_type": "code",
   "execution_count": null,
   "metadata": {},
   "outputs": [],
   "source": [
    "using Plots\n",
    "# define the Lorenz attractor\n",
    "mutable struct Lorenz\n",
    "    dt; σ; ρ; β; x; y; z\n",
    "end\n",
    "\n",
    "function step!(l::Lorenz)\n",
    "    dx = l.σ*(l.y - l.x)       ; l.x += l.dt * dx\n",
    "    dy = l.x*(l.ρ - l.z) - l.y ; l.y += l.dt * dy\n",
    "    dz = l.x*l.y - l.β*l.z     ; l.z += l.dt * dz\n",
    "end\n",
    "\n",
    "attractor = Lorenz((dt = 0.02, σ = 10., ρ = 28., β = 8//3, x = 1., y = 1., z = 1.)...)\n",
    "\n",
    "\n",
    "# initialize a 3D plot with 1 empty series\n",
    "plt = plot3d(1, xlim=(-25,25), ylim=(-25,25), zlim=(0,50),\n",
    "                title = \"Lorenz Attractor\", marker = 2)\n",
    "\n",
    "# build an animated gif by pushing new points to the plot, saving every 20th frame\n",
    "@gif for i=1:1000\n",
    "    step!(attractor)\n",
    "    push!(plt, attractor.x, attractor.y, attractor.z)\n",
    "end every 20"
   ]
  },
  {
   "cell_type": "markdown",
   "metadata": {},
   "source": [
    "## PGFPlots"
   ]
  },
  {
   "cell_type": "code",
   "execution_count": null,
   "metadata": {},
   "outputs": [],
   "source": [
    "using DataFrames, Plots, LaTeXStrings, PGFPlotsX\n",
    "pgfplotsx() # this is a backend for LaTeX plotting"
   ]
  },
  {
   "cell_type": "code",
   "execution_count": null,
   "metadata": {},
   "outputs": [],
   "source": [
    "df = DataFrame(y1=rand(5), y2=rand(5).+2)"
   ]
  },
  {
   "cell_type": "code",
   "execution_count": null,
   "metadata": {},
   "outputs": [],
   "source": [
    "p = plot(;xlabel=L\"\\hat{x}\", ylabel=L\"Some $y$ value\", legend=:left )\n",
    "plot!(p, df.y1, label=L\"Y_1\", linecolor=:blue, linewidth=2)\n",
    "plot!(p, df.y2, label=L\"Y_2\", linecolor=:red, linewidth=3)\n"
   ]
  },
  {
   "cell_type": "code",
   "execution_count": null,
   "metadata": {},
   "outputs": [],
   "source": [
    "savefig(p,\"myplt.tikz\")\n",
    "savefig(p,\"myplt.pdf\")"
   ]
  },
  {
   "cell_type": "code",
   "execution_count": null,
   "metadata": {},
   "outputs": [],
   "source": [
    "latex=raw\"\"\"\n",
    "\\documentclass{article}\n",
    "\\usepackage{tikz} \n",
    "\\usepackage{tikzscale}\n",
    "\\usepackage{pgfplots}\n",
    "\\usetikzlibrary{backgrounds}\n",
    "\\usetikzlibrary{intersections}\n",
    "\n",
    "\\begin{document}\n",
    "\\title{My Research for RID Training}\n",
    "\\maketitle\n",
    "\\section{Section}\n",
    "text text text\n",
    "\\begin{figure}\n",
    "\\includegraphics[width=\\textwidth]{myplt.tikz}\n",
    "\\caption{My caption}\n",
    "\\end{figure}\n",
    "\\end{document}\n",
    "\"\"\"\n",
    "open(\"example.tex\",\"w\") do f println(f, latex) end\n",
    "pwd()"
   ]
  }
 ],
 "metadata": {
  "kernelspec": {
   "display_name": "Julia 1.11.4",
   "language": "julia",
   "name": "julia-1.11"
  },
  "language_info": {
   "file_extension": ".jl",
   "mimetype": "application/julia",
   "name": "julia",
   "version": "1.11.4"
  }
 },
 "nbformat": 4,
 "nbformat_minor": 4
}
