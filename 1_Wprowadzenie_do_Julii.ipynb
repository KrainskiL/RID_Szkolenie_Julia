{
 "cells": [
  {
   "cell_type": "markdown",
   "metadata": {},
   "source": [
    "# Your first steps with Julia"
   ]
  },
  {
   "cell_type": "code",
   "execution_count": null,
   "metadata": {},
   "outputs": [],
   "source": [
    "versioninfo()"
   ]
  },
  {
   "cell_type": "code",
   "execution_count": null,
   "metadata": {},
   "outputs": [],
   "source": [
    "pwd()"
   ]
  },
  {
   "cell_type": "code",
   "execution_count": null,
   "metadata": {},
   "outputs": [],
   "source": [
    "using Pkg\n",
    "Pkg.status() #pkg\"status\""
   ]
  },
  {
   "cell_type": "code",
   "execution_count": null,
   "metadata": {},
   "outputs": [],
   "source": [
    "function f(x,y)\n",
    "    x+y\n",
    "end\n",
    "\n",
    "f(x,y) = x+y"
   ]
  },
  {
   "cell_type": "code",
   "execution_count": null,
   "metadata": {},
   "outputs": [],
   "source": [
    "f(5,12.5)"
   ]
  },
  {
   "cell_type": "code",
   "execution_count": null,
   "metadata": {},
   "outputs": [],
   "source": [
    "@code_lowered f(5,6)"
   ]
  },
  {
   "cell_type": "code",
   "execution_count": null,
   "metadata": {},
   "outputs": [],
   "source": [
    "@code_typed f(4,5)"
   ]
  },
  {
   "cell_type": "code",
   "execution_count": null,
   "metadata": {},
   "outputs": [],
   "source": [
    "@code_llvm f(5,6)"
   ]
  },
  {
   "cell_type": "code",
   "execution_count": null,
   "metadata": {},
   "outputs": [],
   "source": [
    "@code_native f(5,6)"
   ]
  },
  {
   "cell_type": "code",
   "execution_count": null,
   "metadata": {},
   "outputs": [],
   "source": [
    "v = [1,2,3,4]"
   ]
  },
  {
   "cell_type": "code",
   "execution_count": null,
   "metadata": {},
   "outputs": [],
   "source": [
    "v3 = [ 3x for x ∈ 1:9] #Python range(1,10)"
   ]
  },
  {
   "cell_type": "code",
   "execution_count": null,
   "metadata": {},
   "outputs": [],
   "source": [
    "v3[1:4]"
   ]
  },
  {
   "cell_type": "code",
   "execution_count": null,
   "metadata": {},
   "outputs": [],
   "source": [
    "v₄= [ √x₁ for x₁ ∈ 1:9]"
   ]
  },
  {
   "cell_type": "code",
   "execution_count": null,
   "metadata": {},
   "outputs": [],
   "source": [
    "typeof(v₄)"
   ]
  },
  {
   "cell_type": "code",
   "execution_count": null,
   "metadata": {},
   "outputs": [],
   "source": [
    "eltype(v₄)"
   ]
  },
  {
   "cell_type": "code",
   "execution_count": null,
   "metadata": {},
   "outputs": [],
   "source": [
    "b = Int[]\n",
    "append!(b, 5)"
   ]
  },
  {
   "cell_type": "code",
   "execution_count": null,
   "metadata": {},
   "outputs": [],
   "source": [
    "c = []"
   ]
  },
  {
   "cell_type": "code",
   "execution_count": null,
   "metadata": {},
   "outputs": [],
   "source": [
    "c = Complex(1,4)"
   ]
  },
  {
   "cell_type": "code",
   "execution_count": null,
   "metadata": {},
   "outputs": [],
   "source": [
    "typeof(c)"
   ]
  },
  {
   "cell_type": "code",
   "execution_count": null,
   "metadata": {},
   "outputs": [],
   "source": [
    "dump(c)"
   ]
  },
  {
   "cell_type": "code",
   "execution_count": null,
   "metadata": {},
   "outputs": [],
   "source": [
    "c2=Complex{Float64}(1,4)"
   ]
  },
  {
   "cell_type": "code",
   "execution_count": null,
   "metadata": {},
   "outputs": [],
   "source": [
    "typeof(c2)"
   ]
  },
  {
   "cell_type": "code",
   "execution_count": null,
   "metadata": {},
   "outputs": [],
   "source": [
    "dump(c2)"
   ]
  },
  {
   "cell_type": "code",
   "execution_count": null,
   "metadata": {},
   "outputs": [],
   "source": [
    "c2=Complex{Float32}(1,4)\n",
    "typeof(c2)"
   ]
  },
  {
   "cell_type": "code",
   "execution_count": null,
   "metadata": {},
   "outputs": [],
   "source": [
    "x = 1//2 + 1//4"
   ]
  },
  {
   "cell_type": "code",
   "execution_count": null,
   "metadata": {},
   "outputs": [],
   "source": [
    "typeof(x)"
   ]
  },
  {
   "cell_type": "code",
   "execution_count": null,
   "metadata": {},
   "outputs": [],
   "source": [
    "dump(x)"
   ]
  },
  {
   "cell_type": "code",
   "execution_count": null,
   "metadata": {},
   "outputs": [],
   "source": [
    "c3=Complex{Rational{Int128}}(1//4,4)\n",
    "typeof(c3)"
   ]
  },
  {
   "cell_type": "markdown",
   "metadata": {},
   "source": [
    "### Data types"
   ]
  },
  {
   "cell_type": "code",
   "execution_count": null,
   "metadata": {},
   "outputs": [],
   "source": [
    "@show Int64('a') \t# character to integer\n",
    "@show Int64(2.0) \t# float to integer\n",
    "#Int64(1.3) \t\t# inexact error\n",
    "#Int64(\"a\") \t\t# error no conversion possible\n",
    "@show Float64(1) \t# integer to float\n",
    "@show Bool(1) \t\t# boolean true\n",
    "@show Bool(0) \t\t# boolean false\n",
    "@show Char(89) \t\t# integer to char\n",
    "@show zero(10.0) \t# zero of  arg type (Float64)\n",
    "@show one(Int64) \t# one of type Int64\n",
    "@show convert(Int64, 1.0)\t# float to integer\n",
    "@show parse(Int64, \"1\")"
   ]
  },
  {
   "cell_type": "code",
   "execution_count": null,
   "metadata": {},
   "outputs": [],
   "source": [
    "u = [1,3,4,missing, 7]"
   ]
  },
  {
   "cell_type": "code",
   "execution_count": null,
   "metadata": {},
   "outputs": [],
   "source": [
    "@show Int <: Any\n",
    "@show Int <: Union{Int, Float64}\n",
    "@show typeof(nothing)\n",
    "@show typeof(missing)\n"
   ]
  },
  {
   "cell_type": "code",
   "execution_count": null,
   "metadata": {},
   "outputs": [],
   "source": [
    "f(x) = println(\"2x+6= $(2x+6) \"*\"SUFFIX\")\n",
    "res = f(1.7)\n",
    "typeof(res)"
   ]
  },
  {
   "cell_type": "code",
   "execution_count": null,
   "metadata": {},
   "outputs": [],
   "source": [
    "[nothing, Nothing]"
   ]
  },
  {
   "cell_type": "markdown",
   "metadata": {},
   "source": [
    "### Tuples"
   ]
  },
  {
   "cell_type": "code",
   "execution_count": null,
   "metadata": {},
   "outputs": [],
   "source": [
    "function f(a::Int)\n",
    "    return (a, b=a+5)\n",
    "end\n",
    "res = f(3)\n"
   ]
  },
  {
   "cell_type": "code",
   "execution_count": null,
   "metadata": {},
   "outputs": [],
   "source": [
    "res |> typeof"
   ]
  },
  {
   "cell_type": "code",
   "execution_count": null,
   "metadata": {},
   "outputs": [],
   "source": [
    "t = (\"a\", 1, 1, 2.0, [1,2,3]) \t\n",
    "typeof(t)"
   ]
  },
  {
   "cell_type": "code",
   "execution_count": null,
   "metadata": {},
   "outputs": [],
   "source": [
    "@show () \t\t# empty tuple\n",
    "@show (1,) \t\t# one element tuple\n",
    "@show (\"a\", 1) \t# two element tuple\n",
    "@show ('a', false)::Tuple{Char, Bool} # tuple type assertion\n",
    "@show x = (1, 2, 3)\n",
    "@show x[1] \t\t# first element\n",
    "@show x[1:2] \t# (1, 2) (tuple)\n",
    "# x[4] \t\t# bounds error\n",
    "# x[1] = 1 \t# error - tuple is not mutable\n",
    "@show a, b = x \t# tuple unpacking a==1, b==2\n"
   ]
  },
  {
   "cell_type": "code",
   "execution_count": null,
   "metadata": {},
   "outputs": [],
   "source": [
    "t = (3, 3.0)\n",
    "typeof(t)"
   ]
  },
  {
   "cell_type": "code",
   "execution_count": null,
   "metadata": {},
   "outputs": [],
   "source": [
    "k = (1, \"k\",  1//5)\n",
    "typeof(k)"
   ]
  },
  {
   "cell_type": "markdown",
   "metadata": {},
   "source": [
    "### Matrices"
   ]
  },
  {
   "cell_type": "code",
   "execution_count": null,
   "metadata": {},
   "outputs": [],
   "source": [
    "Matrix{String}(undef ,3,4)"
   ]
  },
  {
   "cell_type": "code",
   "execution_count": null,
   "metadata": {
    "scrolled": true
   },
   "outputs": [],
   "source": [
    "Array{Char}(undef, 2, 3, 4) \t# 2x3x4 array of Chars\n",
    "@show Array{Any}(undef, 2, 3) \t# 2x3 array of Any\n",
    "@show zeros(5) \t\t\t\t# vector of Float64 zeros\n",
    "@show ones(Int64, 2, 1) \t# 2x1 array of Int64 ones\n",
    "@show trues(3), falses(3) \t# tuple of vector of trues and of falses\n",
    "\n",
    "@show x = range(1, stop=2, length=5)  # iterator having 5 equally spaced elements\n",
    "@show collect(x) \t# converts iterator to vector\n",
    "@show 1:10 \t\t\t# iterable from 1 to 10\n",
    "@show 1:2:10 \t\t# iterable from 1 to 9 with 2 skip\n",
    "@show reshape(1:12, 3, 4)\t# 3x4 array filled with 1:12 values\n"
   ]
  },
  {
   "cell_type": "code",
   "execution_count": null,
   "metadata": {},
   "outputs": [],
   "source": [
    "Matrix"
   ]
  },
  {
   "cell_type": "code",
   "execution_count": null,
   "metadata": {},
   "outputs": [],
   "source": [
    "y = Matrix{Int64}(undef, 2, 3)"
   ]
  },
  {
   "cell_type": "code",
   "execution_count": null,
   "metadata": {},
   "outputs": [],
   "source": [
    "m = zeros( 4,5)\n",
    "m[1,3] = 66\n",
    "m\n",
    "# 1-based numbering"
   ]
  },
  {
   "cell_type": "code",
   "execution_count": null,
   "metadata": {},
   "outputs": [],
   "source": [
    "m[:,3] #array slicing"
   ]
  },
  {
   "cell_type": "code",
   "execution_count": null,
   "metadata": {},
   "outputs": [],
   "source": [
    "a = reshape(Int128(1):Int128(12_000_000_000), 3_000, 4_000_000)\n",
    "sum(a)"
   ]
  },
  {
   "cell_type": "code",
   "execution_count": null,
   "metadata": {},
   "outputs": [],
   "source": [
    "a = reshape(1:12, 3, 4)\n",
    "display(a[:, 3:end]) # 3x2 matrix\n",
    "display(a[:, 1]) # 3 element vector\n",
    "display(a[1, :]) # 4 element vector\n"
   ]
  },
  {
   "cell_type": "markdown",
   "metadata": {},
   "source": [
    "### Data structures"
   ]
  },
  {
   "cell_type": "code",
   "execution_count": null,
   "metadata": {},
   "outputs": [],
   "source": [
    "mutable struct Point1\n",
    "  x::Int\n",
    "  y::Float64\n",
    "  meta\n",
    "end\n",
    "p = Point1(0, 0.0, \"Origin\")\n",
    "@show p\n",
    "@show p.x \t\t# access field\n",
    "p.meta = 2\t\t# change field value\n",
    "@show fieldnames(typeof(p)) # get names of instance fields\n",
    "@show fieldnames(Point1); \t# get names of type fields\n"
   ]
  },
  {
   "cell_type": "code",
   "execution_count": null,
   "metadata": {},
   "outputs": [],
   "source": [
    "dump(:x)"
   ]
  },
  {
   "cell_type": "code",
   "execution_count": null,
   "metadata": {},
   "outputs": [],
   "source": [
    "dump(p)"
   ]
  },
  {
   "cell_type": "code",
   "execution_count": null,
   "metadata": {},
   "outputs": [],
   "source": [
    "@kwdef struct Point2\n",
    "  x::Int64 = 1\n",
    "  y::Float64 = 2.0\n",
    "  meta\n",
    "end\n",
    "p2 = Point2(x=999, meta = \"Origin\")"
   ]
  },
  {
   "cell_type": "code",
   "execution_count": null,
   "metadata": {},
   "outputs": [],
   "source": [
    "dump(p2)"
   ]
  },
  {
   "cell_type": "code",
   "execution_count": null,
   "metadata": {},
   "outputs": [],
   "source": [
    "try\n",
    "    p2.x = 33333\n",
    "catch e\n",
    "    println(e)\n",
    "end"
   ]
  },
  {
   "cell_type": "code",
   "execution_count": null,
   "metadata": {},
   "outputs": [],
   "source": [
    "]add Parameters"
   ]
  },
  {
   "cell_type": "code",
   "execution_count": null,
   "metadata": {},
   "outputs": [],
   "source": [
    "using Parameters\n",
    "@with_kw mutable struct Point3\n",
    "  x::Int64 = 1\n",
    "  y::Float64 = 2.0\n",
    "  meta\n",
    "end\n",
    "p3 = Point3(x=999, meta = \"Origin\")\n",
    "p3.x = 66\n",
    "p3"
   ]
  },
  {
   "cell_type": "code",
   "execution_count": null,
   "metadata": {},
   "outputs": [],
   "source": [
    "Point3(;x=11,meta=\"ss\")"
   ]
  },
  {
   "cell_type": "code",
   "execution_count": null,
   "metadata": {},
   "outputs": [],
   "source": [
    "struct MyPoint{T <: Real}\n",
    "    x::T\n",
    "    y::T\n",
    "end\n",
    "\n",
    "MyPoint(4,5)"
   ]
  },
  {
   "cell_type": "code",
   "execution_count": null,
   "metadata": {},
   "outputs": [],
   "source": [
    "mutable struct MyPoint2{T <: Real}\n",
    "    x::T\n",
    "    y::T\n",
    "    z::Union{T,Nothing}\n",
    "end"
   ]
  },
  {
   "cell_type": "markdown",
   "metadata": {},
   "source": [
    "### Dictionaries"
   ]
  },
  {
   "cell_type": "code",
   "execution_count": null,
   "metadata": {},
   "outputs": [],
   "source": [
    "x = Dict{Int, Float64}()\n",
    "x[5] = 66.6\n",
    "x[7] = 99\n",
    "\n",
    "x"
   ]
  },
  {
   "cell_type": "code",
   "execution_count": null,
   "metadata": {},
   "outputs": [],
   "source": [
    "dump(4 => 7)"
   ]
  },
  {
   "cell_type": "code",
   "execution_count": null,
   "metadata": {},
   "outputs": [],
   "source": [
    "y = Dict(:cat => 44, :dog=>57)"
   ]
  },
  {
   "cell_type": "code",
   "execution_count": null,
   "metadata": {},
   "outputs": [],
   "source": [
    "x2 = Dict{Any, Any}()\n",
    "x2[5] = 66.6\n",
    "x2[7] = 99\n",
    "\n",
    "x2"
   ]
  },
  {
   "cell_type": "code",
   "execution_count": null,
   "metadata": {},
   "outputs": [],
   "source": [
    "keys(x2)"
   ]
  },
  {
   "cell_type": "code",
   "execution_count": null,
   "metadata": {},
   "outputs": [],
   "source": [
    "Dict(1=>1, 1=>999)"
   ]
  },
  {
   "cell_type": "code",
   "execution_count": null,
   "metadata": {},
   "outputs": [],
   "source": [
    "for (a, b) in y\n",
    "    @show a, b\n",
    "    \n",
    "end"
   ]
  },
  {
   "cell_type": "code",
   "execution_count": null,
   "metadata": {},
   "outputs": [],
   "source": [
    "y[:cat]"
   ]
  },
  {
   "cell_type": "code",
   "execution_count": null,
   "metadata": {},
   "outputs": [],
   "source": [
    "y = Dict(1=>5.5, 2=>4.5)"
   ]
  },
  {
   "cell_type": "code",
   "execution_count": null,
   "metadata": {},
   "outputs": [],
   "source": [
    "x = Dict{Int, Float64}() # empty dictionary mapping integers to floats\n",
    "y = Dict(1=>5.5, 2=>4.5) \t# created dictionary\n",
    "@show y[2] \t\t\t\t\t# get element\n",
    "@show y[3] = 30.0 \t\t\t# add element\n",
    "@show haskey(y, 2) \t\t\t# check if key exists\n",
    "@show keys(y), values(y) # iterators returning dictionary keys and values\n",
    "@show delete!(y, 2)   # removing elements see also: pop!\n",
    "@show get(y, 2, 777) # returns y[2] or 777 if not haskey(y,2)\n"
   ]
  },
  {
   "cell_type": "markdown",
   "metadata": {},
   "source": [
    "### Text processing"
   ]
  },
  {
   "cell_type": "code",
   "execution_count": null,
   "metadata": {},
   "outputs": [],
   "source": [
    "x = 123\n",
    "@show \"$x + 3 = $(x+3)  3\\$\""
   ]
  },
  {
   "cell_type": "code",
   "execution_count": null,
   "metadata": {},
   "outputs": [],
   "source": [
    "@show \"Hi \" * \"there!\" \t\t# concatenation\n",
    "@show \"Ho \" ^ 3 \t\t\t# multiplication\n",
    "@show string(\"a= \", 123.3) \t# joining elements to text\n",
    "@show occursin(\"CD\",\"ABCD\") \t# occurence\n",
    "@show \"\\\"\\n\\t\\$\" # C-like escaping, additionally escape \\$\n",
    "                          # escaping - similiar to Matlab, Python, R\n",
    "x = 123\n",
    "@show \"$x + 3 = $(x+3)\"  # $ is an interpolation operator\n",
    "@show \"\\$199\" # that is why you need escaping\n",
    "\n",
    "r = r\"A|B\" # full support for regular expressions\n",
    "@show occursin(r, \"CD\") # false, not found\n",
    "@show m = match(r, \"ACBD\"); # first regexp match\n"
   ]
  },
  {
   "cell_type": "code",
   "execution_count": null,
   "metadata": {},
   "outputs": [],
   "source": [
    "x = 6\n",
    "tekst = \"hello $x and $(x*x+2x)\""
   ]
  },
  {
   "cell_type": "code",
   "execution_count": null,
   "metadata": {},
   "outputs": [],
   "source": [
    "str = raw\"c:\\windows\\newfolfder\""
   ]
  },
  {
   "cell_type": "code",
   "execution_count": null,
   "metadata": {},
   "outputs": [],
   "source": [
    "?@raw_str"
   ]
  },
  {
   "cell_type": "markdown",
   "metadata": {},
   "source": [
    "### Functions"
   ]
  },
  {
   "cell_type": "code",
   "execution_count": null,
   "metadata": {},
   "outputs": [],
   "source": [
    "f(x, y = 10) = x + y\n",
    "# for this function the default value of y is 10\n",
    "@show f(3, 2) # 5 is returned\n",
    "@show f(3)    # 13 is returned\n"
   ]
  },
  {
   "cell_type": "code",
   "execution_count": null,
   "metadata": {},
   "outputs": [],
   "source": [
    "function g(x::Int, y::Int) # limit arg type\n",
    "  return y, x # tuple returned\n",
    "end\n",
    "\n",
    "g(x::Int, y::Bool) = x * y # multiple dispatch\n",
    "g(x, y) = x - y\n",
    "g(x::Real, y::Real) = x - y\n",
    "\n",
    "methods(g) # list of methods for g\n"
   ]
  },
  {
   "cell_type": "code",
   "execution_count": null,
   "metadata": {},
   "outputs": [],
   "source": [
    "@show g(1,2)\n",
    "@show g(1, true)\n"
   ]
  },
  {
   "cell_type": "code",
   "execution_count": null,
   "metadata": {},
   "outputs": [],
   "source": [
    "x-> x^2"
   ]
  },
  {
   "cell_type": "code",
   "execution_count": null,
   "metadata": {},
   "outputs": [],
   "source": [
    "(x-> x^2)(2)"
   ]
  },
  {
   "cell_type": "markdown",
   "metadata": {},
   "source": [
    "### Operators"
   ]
  },
  {
   "cell_type": "code",
   "execution_count": null,
   "metadata": {},
   "outputs": [],
   "source": [
    "y = collect(1:10)"
   ]
  },
  {
   "cell_type": "code",
   "execution_count": null,
   "metadata": {},
   "outputs": [],
   "source": [
    "collect(y')"
   ]
  },
  {
   "cell_type": "code",
   "execution_count": null,
   "metadata": {},
   "outputs": [],
   "source": [
    "[1 2] .< [2 1]"
   ]
  },
  {
   "cell_type": "code",
   "execution_count": null,
   "metadata": {},
   "outputs": [],
   "source": [
    "@show true || false # binary or operator (singeltons only)\n",
    "@show 1 < 2 < 3     # condition chaining  is OK\n",
    "@show [1 2] .< [2 1] # vectorization via dot operator \".\"\n",
    "@show a = 5\n",
    "@show 2a + 2(a+1) # multiplication can be ommited\n",
    "@show x = [1 2 3]\t  #matrix 1×3 Array{Int64,2}\n",
    "@show y = [1, 2, 3]  #3-elements Array{Int64,1}\n",
    "#x + y # error\n",
    "@show x .+ y # 3x3 matrix, dimension broadcasting\n",
    "@show x + y' # 1x3 matrix\n",
    "@show x * y; # array multiplication, 1-element vector (not scalar)\n"
   ]
  },
  {
   "cell_type": "code",
   "execution_count": null,
   "metadata": {},
   "outputs": [],
   "source": [
    "y"
   ]
  },
  {
   "cell_type": "code",
   "execution_count": null,
   "metadata": {},
   "outputs": [],
   "source": [
    "f(x,y) =  x<y ? x : y"
   ]
  },
  {
   "cell_type": "code",
   "execution_count": null,
   "metadata": {},
   "outputs": [],
   "source": [
    "f(10,30)"
   ]
  },
  {
   "cell_type": "code",
   "execution_count": null,
   "metadata": {},
   "outputs": [],
   "source": [
    "a = [1,2,3]\n",
    "b = [0,5,6]"
   ]
  },
  {
   "cell_type": "code",
   "execution_count": null,
   "metadata": {},
   "outputs": [],
   "source": [
    "f.(a,b)"
   ]
  },
  {
   "cell_type": "code",
   "execution_count": null,
   "metadata": {},
   "outputs": [],
   "source": [
    "a .* b"
   ]
  }
 ],
 "metadata": {
  "kernelspec": {
   "display_name": "Julia 1.11.4",
   "language": "julia",
   "name": "julia-1.11"
  },
  "language_info": {
   "file_extension": ".jl",
   "mimetype": "application/julia",
   "name": "julia",
   "version": "1.11.4"
  }
 },
 "nbformat": 4,
 "nbformat_minor": 4
}
